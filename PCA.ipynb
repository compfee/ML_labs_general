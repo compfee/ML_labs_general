{
 "cells": [
  {
   "cell_type": "code",
   "execution_count": 1,
   "id": "e985c804",
   "metadata": {},
   "outputs": [],
   "source": [
    "import pandas as pd\n",
    "import numpy as np"
   ]
  },
  {
   "cell_type": "code",
   "execution_count": 2,
   "id": "6ee6f27d",
   "metadata": {},
   "outputs": [],
   "source": [
    "data_loc = '34_25.csv'"
   ]
  },
  {
   "cell_type": "code",
   "execution_count": 5,
   "id": "02529aea",
   "metadata": {},
   "outputs": [],
   "source": [
    "data = pd.read_csv(data_loc, header=None)"
   ]
  },
  {
   "cell_type": "code",
   "execution_count": 6,
   "id": "7d629689",
   "metadata": {},
   "outputs": [
    {
     "data": {
      "text/html": [
       "<div>\n",
       "<style scoped>\n",
       "    .dataframe tbody tr th:only-of-type {\n",
       "        vertical-align: middle;\n",
       "    }\n",
       "\n",
       "    .dataframe tbody tr th {\n",
       "        vertical-align: top;\n",
       "    }\n",
       "\n",
       "    .dataframe thead th {\n",
       "        text-align: right;\n",
       "    }\n",
       "</style>\n",
       "<table border=\"1\" class=\"dataframe\">\n",
       "  <thead>\n",
       "    <tr style=\"text-align: right;\">\n",
       "      <th></th>\n",
       "      <th>0</th>\n",
       "      <th>1</th>\n",
       "      <th>2</th>\n",
       "      <th>3</th>\n",
       "      <th>4</th>\n",
       "      <th>5</th>\n",
       "      <th>6</th>\n",
       "      <th>7</th>\n",
       "      <th>8</th>\n",
       "      <th>9</th>\n",
       "    </tr>\n",
       "  </thead>\n",
       "  <tbody>\n",
       "    <tr>\n",
       "      <th>0</th>\n",
       "      <td>13.255663</td>\n",
       "      <td>-3.970881</td>\n",
       "      <td>2.796957</td>\n",
       "      <td>-6.344109</td>\n",
       "      <td>24.017276</td>\n",
       "      <td>-18.697087</td>\n",
       "      <td>21.128203</td>\n",
       "      <td>-18.501314</td>\n",
       "      <td>-0.839574</td>\n",
       "      <td>-16.191357</td>\n",
       "    </tr>\n",
       "    <tr>\n",
       "      <th>1</th>\n",
       "      <td>-26.357436</td>\n",
       "      <td>7.110444</td>\n",
       "      <td>16.870685</td>\n",
       "      <td>4.426741</td>\n",
       "      <td>15.145726</td>\n",
       "      <td>17.248351</td>\n",
       "      <td>-12.547473</td>\n",
       "      <td>17.486641</td>\n",
       "      <td>-9.131461</td>\n",
       "      <td>-20.452525</td>\n",
       "    </tr>\n",
       "    <tr>\n",
       "      <th>2</th>\n",
       "      <td>-3.576196</td>\n",
       "      <td>-18.649942</td>\n",
       "      <td>24.643430</td>\n",
       "      <td>-14.978293</td>\n",
       "      <td>-9.286028</td>\n",
       "      <td>8.377791</td>\n",
       "      <td>4.414909</td>\n",
       "      <td>-12.870903</td>\n",
       "      <td>15.586781</td>\n",
       "      <td>-0.174785</td>\n",
       "    </tr>\n",
       "    <tr>\n",
       "      <th>3</th>\n",
       "      <td>-23.203200</td>\n",
       "      <td>8.301919</td>\n",
       "      <td>16.095409</td>\n",
       "      <td>7.643220</td>\n",
       "      <td>16.914143</td>\n",
       "      <td>16.649280</td>\n",
       "      <td>-8.603661</td>\n",
       "      <td>16.012082</td>\n",
       "      <td>-11.373881</td>\n",
       "      <td>-21.142902</td>\n",
       "    </tr>\n",
       "    <tr>\n",
       "      <th>4</th>\n",
       "      <td>9.998677</td>\n",
       "      <td>-0.640020</td>\n",
       "      <td>2.602077</td>\n",
       "      <td>-4.334787</td>\n",
       "      <td>22.336607</td>\n",
       "      <td>-23.446092</td>\n",
       "      <td>20.818255</td>\n",
       "      <td>-17.437508</td>\n",
       "      <td>-0.637234</td>\n",
       "      <td>-16.413384</td>\n",
       "    </tr>\n",
       "  </tbody>\n",
       "</table>\n",
       "</div>"
      ],
      "text/plain": [
       "           0          1          2          3          4          5  \\\n",
       "0  13.255663  -3.970881   2.796957  -6.344109  24.017276 -18.697087   \n",
       "1 -26.357436   7.110444  16.870685   4.426741  15.145726  17.248351   \n",
       "2  -3.576196 -18.649942  24.643430 -14.978293  -9.286028   8.377791   \n",
       "3 -23.203200   8.301919  16.095409   7.643220  16.914143  16.649280   \n",
       "4   9.998677  -0.640020   2.602077  -4.334787  22.336607 -23.446092   \n",
       "\n",
       "           6          7          8          9  \n",
       "0  21.128203 -18.501314  -0.839574 -16.191357  \n",
       "1 -12.547473  17.486641  -9.131461 -20.452525  \n",
       "2   4.414909 -12.870903  15.586781  -0.174785  \n",
       "3  -8.603661  16.012082 -11.373881 -21.142902  \n",
       "4  20.818255 -17.437508  -0.637234 -16.413384  "
      ]
     },
     "execution_count": 6,
     "metadata": {},
     "output_type": "execute_result"
    }
   ],
   "source": [
    "data.head()"
   ]
  },
  {
   "cell_type": "code",
   "execution_count": 23,
   "id": "00a86da8",
   "metadata": {},
   "outputs": [
    {
     "data": {
      "text/plain": [
       "0     -3.970881\n",
       "1      7.110444\n",
       "2    -18.649942\n",
       "3      8.301919\n",
       "4     -0.640020\n",
       "5      1.437521\n",
       "6     14.204532\n",
       "7    -20.094752\n",
       "8     13.470127\n",
       "9      6.255525\n",
       "10    14.553828\n",
       "11     6.137878\n",
       "12     0.245302\n",
       "13   -21.213137\n",
       "14   -17.437630\n",
       "15     2.099883\n",
       "16    14.811178\n",
       "17     7.658285\n",
       "18   -21.094703\n",
       "19   -20.273633\n",
       "20    -0.167307\n",
       "21    13.859602\n",
       "22     0.044463\n",
       "23     7.571001\n",
       "24     0.522759\n",
       "25    -5.521551\n",
       "26    -1.473552\n",
       "27     6.005504\n",
       "28    12.076744\n",
       "29    -1.433010\n",
       "30    -1.141593\n",
       "31    14.328752\n",
       "32    -1.687116\n",
       "33    12.783884\n",
       "34     2.094364\n",
       "35     0.098099\n",
       "36    13.403332\n",
       "37    -2.494283\n",
       "38     7.780300\n",
       "39   -18.838246\n",
       "40    -4.225510\n",
       "41   -20.256720\n",
       "42     1.463263\n",
       "43   -20.199372\n",
       "44   -19.632787\n",
       "45    -3.474568\n",
       "46     1.416401\n",
       "47     6.200663\n",
       "48     0.734177\n",
       "49    -0.402466\n",
       "50    12.525219\n",
       "51    13.681152\n",
       "52     6.969372\n",
       "53     6.814284\n",
       "54   -19.178982\n",
       "55     0.284519\n",
       "56     7.898680\n",
       "57    12.625640\n",
       "58    -1.794941\n",
       "59   -19.996677\n",
       "Name: 1, dtype: float64"
      ]
     },
     "execution_count": 23,
     "metadata": {},
     "output_type": "execute_result"
    }
   ],
   "source": [
    "data[1]"
   ]
  },
  {
   "cell_type": "code",
   "execution_count": 24,
   "id": "47d24210",
   "metadata": {},
   "outputs": [],
   "source": [
    "from sklearn.decomposition import PCA"
   ]
  },
  {
   "cell_type": "code",
   "execution_count": 25,
   "id": "7df2c63a",
   "metadata": {},
   "outputs": [],
   "source": [
    "pca = PCA(n_components = 10)"
   ]
  },
  {
   "cell_type": "code",
   "execution_count": 26,
   "id": "34a3520b",
   "metadata": {},
   "outputs": [],
   "source": [
    "data_transformed = pca.fit_transform(data)"
   ]
  },
  {
   "cell_type": "code",
   "execution_count": 27,
   "id": "87a6ae61",
   "metadata": {},
   "outputs": [],
   "source": [
    "explained_variance = pca.explained_variance_ratio_"
   ]
  },
  {
   "cell_type": "code",
   "execution_count": 41,
   "id": "ebc24801",
   "metadata": {},
   "outputs": [
    {
     "data": {
      "image/png": "[encoded data removed]",
      "text/plain": [
       "<Figure size 432x288 with 1 Axes>"
      ]
     },
     "metadata": {
      "needs_background": "light"
     },
     "output_type": "display_data"
    },
    {
     "data": {
      "text/plain": [
       "None"
      ]
     },
     "metadata": {},
     "output_type": "display_data"
    },
    {
     "data": {
      "text/html": [
       "<div>\n",
       "<style scoped>\n",
       "    .dataframe tbody tr th:only-of-type {\n",
       "        vertical-align: middle;\n",
       "    }\n",
       "\n",
       "    .dataframe tbody tr th {\n",
       "        vertical-align: top;\n",
       "    }\n",
       "\n",
       "    .dataframe thead th {\n",
       "        text-align: right;\n",
       "    }\n",
       "</style>\n",
       "<table border=\"1\" class=\"dataframe\">\n",
       "  <thead>\n",
       "    <tr style=\"text-align: right;\">\n",
       "      <th></th>\n",
       "      <th>Cumulative Variance Ratio</th>\n",
       "      <th>Explained Variance Ratio</th>\n",
       "    </tr>\n",
       "  </thead>\n",
       "  <tbody>\n",
       "    <tr>\n",
       "      <th>0</th>\n",
       "      <td>0.406044</td>\n",
       "      <td>0.406044</td>\n",
       "    </tr>\n",
       "    <tr>\n",
       "      <th>1</th>\n",
       "      <td>0.709562</td>\n",
       "      <td>0.303518</td>\n",
       "    </tr>\n",
       "    <tr>\n",
       "      <th>2</th>\n",
       "      <td>0.906962</td>\n",
       "      <td>0.197401</td>\n",
       "    </tr>\n",
       "    <tr>\n",
       "      <th>3</th>\n",
       "      <td>0.994111</td>\n",
       "      <td>0.087149</td>\n",
       "    </tr>\n",
       "    <tr>\n",
       "      <th>4</th>\n",
       "      <td>0.995633</td>\n",
       "      <td>0.001522</td>\n",
       "    </tr>\n",
       "    <tr>\n",
       "      <th>5</th>\n",
       "      <td>0.996978</td>\n",
       "      <td>0.001344</td>\n",
       "    </tr>\n",
       "    <tr>\n",
       "      <th>6</th>\n",
       "      <td>0.998064</td>\n",
       "      <td>0.001086</td>\n",
       "    </tr>\n",
       "    <tr>\n",
       "      <th>7</th>\n",
       "      <td>0.998887</td>\n",
       "      <td>0.000824</td>\n",
       "    </tr>\n",
       "    <tr>\n",
       "      <th>8</th>\n",
       "      <td>0.999493</td>\n",
       "      <td>0.000605</td>\n",
       "    </tr>\n",
       "    <tr>\n",
       "      <th>9</th>\n",
       "      <td>1.000000</td>\n",
       "      <td>0.000507</td>\n",
       "    </tr>\n",
       "  </tbody>\n",
       "</table>\n",
       "</div>"
      ],
      "text/plain": [
       "   Cumulative Variance Ratio  Explained Variance Ratio\n",
       "0                   0.406044                  0.406044\n",
       "1                   0.709562                  0.303518\n",
       "2                   0.906962                  0.197401\n",
       "3                   0.994111                  0.087149\n",
       "4                   0.995633                  0.001522\n",
       "5                   0.996978                  0.001344\n",
       "6                   0.998064                  0.001086\n",
       "7                   0.998887                  0.000824\n",
       "8                   0.999493                  0.000605\n",
       "9                   1.000000                  0.000507"
      ]
     },
     "metadata": {},
     "output_type": "display_data"
    }
   ],
   "source": [
    "import matplotlib.pyplot as plt\n",
    "plt.plot(np.cumsum(explained_variance))\n",
    "plt.xlabel('number of components')\n",
    "plt.ylabel('cumulative explained variance')\n",
    "plt.axvline(linewidth=4, color='r', linestyle = '--', x=3, ymin=0, ymax=1)\n",
    "display(plt.show())\n",
    "evr = explained_variance\n",
    "cvr = np.cumsum(explained_variance)\n",
    "pca_df = pd.DataFrame()\n",
    "pca_df['Cumulative Variance Ratio'] = cvr\n",
    "pca_df['Explained Variance Ratio'] = evr\n",
    "display(pca_df.head(10))"
   ]
  },
  {
   "cell_type": "code",
   "execution_count": 43,
   "id": "d6008ab0",
   "metadata": {},
   "outputs": [],
   "source": [
    "pca = PCA(n_components = 3)\n",
    "data_transformed = pca.fit_transform(data)"
   ]
  },
  {
   "cell_type": "code",
   "execution_count": 44,
   "id": "05c5c35f",
   "metadata": {},
   "outputs": [
    {
     "data": {
      "text/plain": [
       "array([[-34.78385542, -22.59549992, -24.60224271],\n",
       "       [ 12.65462903,  30.34120785,  -0.72985724],\n",
       "       [-10.86457445, -20.62457524,  31.25443017],\n",
       "       [ 10.6242521 ,  29.65375074,  -5.38752278],\n",
       "       [-33.9262402 , -20.67442681, -26.80019335],\n",
       "       [-17.06771031,  28.64975227,   3.77765539],\n",
       "       [ 51.37507454, -16.70522789, -10.62636391],\n",
       "       [ -8.10479142, -22.38014373,  35.63407916],\n",
       "       [ 45.83407404, -14.01387413,  -9.93392701],\n",
       "       [  8.85269441,  29.26619983,  -1.10035419],\n",
       "       [ 50.135796  , -14.34876135, -11.61893089],\n",
       "       [ 11.52591182,  28.8455728 ,   0.63218085],\n",
       "       [-14.32973052,  28.92882176,   2.45817609],\n",
       "       [ -7.32200673, -23.67253794,  35.08521534],\n",
       "       [ -7.84504591, -22.52841942,  32.25173069],\n",
       "       [-17.77144854,  30.89893748,   4.37646746],\n",
       "       [ 48.23321962, -13.13982203, -11.75139189],\n",
       "       [ 10.70064365,  29.08144968,  -2.52605504],\n",
       "       [ -7.81842006, -23.38527825,  33.70863991],\n",
       "       [ -7.7070086 , -23.48130365,  35.21150904],\n",
       "       [-16.20751365,  27.16600187,   0.67169654],\n",
       "       [ 50.2471334 , -16.04837794,  -8.91311386],\n",
       "       [-15.38843078,  27.25656976,   2.05515622],\n",
       "       [ 10.74650057,  30.53148709,  -3.89421723],\n",
       "       [-20.42678116,  28.87035416,   5.11903246],\n",
       "       [-35.59741424, -23.00310173, -23.99430747],\n",
       "       [-30.61624805, -22.12761637, -26.72813301],\n",
       "       [ 10.84170631,  31.74510153,   1.10823729],\n",
       "       [ 49.19197027, -15.2601062 ,  -8.43661323],\n",
       "       [-31.60230636, -20.11001716, -25.50682436],\n",
       "       [-31.18194997, -22.3936765 , -25.29208879],\n",
       "       [ 48.02110961, -15.18121144, -10.25919361],\n",
       "       [-34.64109256, -23.25463127, -25.81390266],\n",
       "       [ 48.41842764, -15.39752015,  -9.34473981],\n",
       "       [-16.85323621,  31.14440534,   2.10906872],\n",
       "       [-19.17370065,  29.59241938,   3.65771131],\n",
       "       [ 46.8145055 , -14.38563843,  -8.2342779 ],\n",
       "       [-31.23504494, -23.33795256, -22.87928105],\n",
       "       [ 11.45563329,  29.41930819,   3.18619802],\n",
       "       [ -8.12232258, -21.95079902,  34.67168982],\n",
       "       [-33.92666691, -23.79703963, -24.02485097],\n",
       "       [ -8.9356432 , -22.15857396,  33.33010302],\n",
       "       [-18.57271688,  31.77763745,   2.9439453 ],\n",
       "       [ -8.20251074, -22.73333423,  34.07025596],\n",
       "       [-11.63713996, -21.38416582,  33.45890033],\n",
       "       [-34.95426134, -19.78999855, -26.34866417],\n",
       "       [-19.02297813,  28.21743034,   2.09555833],\n",
       "       [  7.7098872 ,  28.16474382,  -0.70880994],\n",
       "       [-32.41986538, -20.21581973, -27.71480333],\n",
       "       [-17.94479216,  30.44612631,   4.23900777],\n",
       "       [ 47.93036072, -17.72228364, -11.02487161],\n",
       "       [ 47.12363211, -14.13387093, -11.46897279],\n",
       "       [ 10.83233642,  28.00235555,  -0.21639217],\n",
       "       [ 12.58735936,  32.35341461,  -1.7311169 ],\n",
       "       [ -8.34481847, -22.03573704,  36.39542004],\n",
       "       [-15.87856981,  28.81150588,   1.10905813],\n",
       "       [ 10.82590975,  30.60198199,  -1.99791228],\n",
       "       [ 48.10685379, -13.73130306, -10.35652199],\n",
       "       [-33.86768864, -20.15049331, -26.21666464],\n",
       "       [ -8.49509625, -21.91339665,  31.57198944]])"
      ]
     },
     "execution_count": 44,
     "metadata": {},
     "output_type": "execute_result"
    }
   ],
   "source": [
    "data_transformed"
   ]
  },
  {
   "cell_type": "code",
   "execution_count": 45,
   "id": "9e25fdad",
   "metadata": {},
   "outputs": [
    {
     "data": {
      "text/plain": [
       "array([0.40604393, 0.30351786, 0.19740068, 0.08714896, 0.00152204,\n",
       "       0.0013443 , 0.00108602, 0.00082359, 0.0006053 , 0.00050732])"
      ]
     },
     "execution_count": 45,
     "metadata": {},
     "output_type": "execute_result"
    }
   ],
   "source": [
    "explained_variance"
   ]
  },
  {
   "cell_type": "code",
   "execution_count": 46,
   "id": "d65a7aab",
   "metadata": {},
   "outputs": [
    {
     "data": {
      "text/plain": [
       "array([0.40604393, 0.7095618 , 0.90696248, 0.99411144, 0.99563347,\n",
       "       0.99697778, 0.99806379, 0.99888738, 0.99949268, 1.        ])"
      ]
     },
     "execution_count": 46,
     "metadata": {},
     "output_type": "execute_result"
    }
   ],
   "source": [
    "cvr"
   ]
  },
  {
   "cell_type": "code",
   "execution_count": 47,
   "id": "1bf5f96b",
   "metadata": {},
   "outputs": [],
   "source": [
    "def biplot(score,coeff,labels=None):\n",
    "    xs = score[:,0]\n",
    "    ys = score[:,1]\n",
    "    n = coeff.shape[0]\n",
    "    scalex = 1.0/(xs.max() - xs.min())\n",
    "    scaley = 1.0/(ys.max() - ys.min())\n",
    "    plt.scatter(xs * scalex,ys * scaley,s=5)\n",
    "    for i in range(n):\n",
    "        plt.arrow(0, 0, coeff[i,0], coeff[i,1],color = 'r',alpha = 0.5)\n",
    "        if labels is None:\n",
    "            plt.text(coeff[i,0]* 1.15, coeff[i,1] * 1.15, \"Var\"+str(i+1), color = 'green', ha = 'center', va = 'center')\n",
    "        else:\n",
    "            plt.text(coeff[i,0]* 1.15, coeff[i,1] * 1.15, labels[i], color = 'g', ha = 'center', va = 'center')\n",
    " \n",
    "    plt.xlabel(\"PC{}\".format(1))\n",
    "    plt.ylabel(\"PC{}\".format(2))\n",
    "    plt.grid()"
   ]
  },
  {
   "cell_type": "code",
   "execution_count": 52,
   "id": "d1536cd3",
   "metadata": {},
   "outputs": [
    {
     "data": {
      "image/png": "[encoded data removed]",
      "text/plain": [
       "<Figure size 864x432 with 1 Axes>"
      ]
     },
     "metadata": {
      "needs_background": "light"
     },
     "output_type": "display_data"
    }
   ],
   "source": [
    "plt.figure(figsize=(12, 6))\n",
    "biplot(data_transformed, np.transpose(pca.components_), [0,1,2,3,4,5,6,7,8,9])"
   ]
  },
  {
   "cell_type": "code",
   "execution_count": null,
   "id": "d8e2e0d0",
   "metadata": {},
   "outputs": [],
   "source": []
  },
  {
   "cell_type": "code",
   "execution_count": null,
   "id": "0e8d5b12",
   "metadata": {},
   "outputs": [],
   "source": []
  }
 ],
 "metadata": {
  "kernelspec": {
   "display_name": "Python 3 (ipykernel)",
   "language": "python",
   "name": "python3"
  },
  "language_info": {
   "codemirror_mode": {
    "name": "ipython",
    "version": 3
   },
   "file_extension": ".py",
   "mimetype": "text/x-python",
   "name": "python",
   "nbconvert_exporter": "python",
   "pygments_lexer": "ipython3",
   "version": "3.9.7"
  }
 },
 "nbformat": 4,
 "nbformat_minor": 5
}
