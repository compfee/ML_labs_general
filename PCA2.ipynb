{
 "cells": [
  {
   "cell_type": "markdown",
   "id": "c39920a7",
   "metadata": {
    "pycharm": {
     "name": "#%% md\n"
    }
   },
   "source": [
    "Для прохода на новогодний корпоратив в ИТМО при входе нужно отгадать «логотип мероприятия». Для получения изображения логотипа необходимо по первым десяти главным компонентам восстановить исходное изображение (в качестве пригласительных рассылались матрица счётов и матрица весов первых десяти ГК)."
   ]
  },
  {
   "cell_type": "code",
   "execution_count": null,
   "outputs": [],
   "source": [
    "import pandas as pd\n",
    "import numpy as np"
   ],
   "metadata": {
    "collapsed": false,
    "pycharm": {
     "name": "#%%\n"
    }
   }
  },
  {
   "cell_type": "code",
   "execution_count": 69,
   "id": "ffe395ca",
   "metadata": {},
   "outputs": [],
   "source": [
    "accounts_matrix_loc = 'X_reduced_561.csv'\n",
    "weights_matrix_loc = 'X_loadings_561.csv'"
   ]
  },
  {
   "cell_type": "code",
   "execution_count": 70,
   "id": "8f8441f7",
   "metadata": {},
   "outputs": [
    {
     "data": {
      "text/html": [
       "<div>\n",
       "<style scoped>\n",
       "    .dataframe tbody tr th:only-of-type {\n",
       "        vertical-align: middle;\n",
       "    }\n",
       "\n",
       "    .dataframe tbody tr th {\n",
       "        vertical-align: top;\n",
       "    }\n",
       "\n",
       "    .dataframe thead th {\n",
       "        text-align: right;\n",
       "    }\n",
       "</style>\n",
       "<table border=\"1\" class=\"dataframe\">\n",
       "  <thead>\n",
       "    <tr style=\"text-align: right;\">\n",
       "      <th></th>\n",
       "      <th>0</th>\n",
       "      <th>1</th>\n",
       "      <th>2</th>\n",
       "      <th>3</th>\n",
       "      <th>4</th>\n",
       "      <th>5</th>\n",
       "      <th>6</th>\n",
       "      <th>7</th>\n",
       "      <th>8</th>\n",
       "      <th>9</th>\n",
       "    </tr>\n",
       "  </thead>\n",
       "  <tbody>\n",
       "    <tr>\n",
       "      <th>0</th>\n",
       "      <td>-125.669461</td>\n",
       "      <td>-81.766289</td>\n",
       "      <td>-37.088467</td>\n",
       "      <td>40.695399</td>\n",
       "      <td>6.672324</td>\n",
       "      <td>4.48691</td>\n",
       "      <td>30.673148</td>\n",
       "      <td>2.551444</td>\n",
       "      <td>6.579712</td>\n",
       "      <td>-7.683517</td>\n",
       "    </tr>\n",
       "    <tr>\n",
       "      <th>1</th>\n",
       "      <td>-125.669461</td>\n",
       "      <td>-81.766289</td>\n",
       "      <td>-37.088467</td>\n",
       "      <td>40.695399</td>\n",
       "      <td>6.672324</td>\n",
       "      <td>4.48691</td>\n",
       "      <td>30.673148</td>\n",
       "      <td>2.551444</td>\n",
       "      <td>6.579712</td>\n",
       "      <td>-7.683517</td>\n",
       "    </tr>\n",
       "    <tr>\n",
       "      <th>2</th>\n",
       "      <td>-125.669461</td>\n",
       "      <td>-81.766289</td>\n",
       "      <td>-37.088467</td>\n",
       "      <td>40.695399</td>\n",
       "      <td>6.672324</td>\n",
       "      <td>4.48691</td>\n",
       "      <td>30.673148</td>\n",
       "      <td>2.551444</td>\n",
       "      <td>6.579712</td>\n",
       "      <td>-7.683517</td>\n",
       "    </tr>\n",
       "    <tr>\n",
       "      <th>3</th>\n",
       "      <td>-125.669461</td>\n",
       "      <td>-81.766289</td>\n",
       "      <td>-37.088467</td>\n",
       "      <td>40.695399</td>\n",
       "      <td>6.672324</td>\n",
       "      <td>4.48691</td>\n",
       "      <td>30.673148</td>\n",
       "      <td>2.551444</td>\n",
       "      <td>6.579712</td>\n",
       "      <td>-7.683517</td>\n",
       "    </tr>\n",
       "    <tr>\n",
       "      <th>4</th>\n",
       "      <td>-125.669461</td>\n",
       "      <td>-81.766289</td>\n",
       "      <td>-37.088467</td>\n",
       "      <td>40.695399</td>\n",
       "      <td>6.672324</td>\n",
       "      <td>4.48691</td>\n",
       "      <td>30.673148</td>\n",
       "      <td>2.551444</td>\n",
       "      <td>6.579712</td>\n",
       "      <td>-7.683517</td>\n",
       "    </tr>\n",
       "  </tbody>\n",
       "</table>\n",
       "</div>"
      ],
      "text/plain": [
       "            0          1          2          3         4        5          6  \\\n",
       "0 -125.669461 -81.766289 -37.088467  40.695399  6.672324  4.48691  30.673148   \n",
       "1 -125.669461 -81.766289 -37.088467  40.695399  6.672324  4.48691  30.673148   \n",
       "2 -125.669461 -81.766289 -37.088467  40.695399  6.672324  4.48691  30.673148   \n",
       "3 -125.669461 -81.766289 -37.088467  40.695399  6.672324  4.48691  30.673148   \n",
       "4 -125.669461 -81.766289 -37.088467  40.695399  6.672324  4.48691  30.673148   \n",
       "\n",
       "          7         8         9  \n",
       "0  2.551444  6.579712 -7.683517  \n",
       "1  2.551444  6.579712 -7.683517  \n",
       "2  2.551444  6.579712 -7.683517  \n",
       "3  2.551444  6.579712 -7.683517  \n",
       "4  2.551444  6.579712 -7.683517  "
      ]
     },
     "execution_count": 70,
     "metadata": {},
     "output_type": "execute_result"
    }
   ],
   "source": [
    "accounts_matrix = pd.read_csv(accounts_matrix_loc, header=None, sep=';')\n",
    "accounts_matrix.head()"
   ]
  },
  {
   "cell_type": "code",
   "execution_count": 72,
   "id": "893cb98c",
   "metadata": {},
   "outputs": [
    {
     "data": {
      "text/html": [
       "<div>\n",
       "<style scoped>\n",
       "    .dataframe tbody tr th:only-of-type {\n",
       "        vertical-align: middle;\n",
       "    }\n",
       "\n",
       "    .dataframe tbody tr th {\n",
       "        vertical-align: top;\n",
       "    }\n",
       "\n",
       "    .dataframe thead th {\n",
       "        text-align: right;\n",
       "    }\n",
       "</style>\n",
       "<table border=\"1\" class=\"dataframe\">\n",
       "  <thead>\n",
       "    <tr style=\"text-align: right;\">\n",
       "      <th></th>\n",
       "      <th>0</th>\n",
       "      <th>1</th>\n",
       "      <th>2</th>\n",
       "      <th>3</th>\n",
       "      <th>4</th>\n",
       "      <th>5</th>\n",
       "      <th>6</th>\n",
       "      <th>7</th>\n",
       "      <th>8</th>\n",
       "      <th>9</th>\n",
       "    </tr>\n",
       "  </thead>\n",
       "  <tbody>\n",
       "    <tr>\n",
       "      <th>0</th>\n",
       "      <td>-4.918795e-18</td>\n",
       "      <td>-4.145982e-18</td>\n",
       "      <td>-6.419095e-18</td>\n",
       "      <td>9.813703e-18</td>\n",
       "      <td>2.018690e-18</td>\n",
       "      <td>1.539617e-18</td>\n",
       "      <td>1.188176e-17</td>\n",
       "      <td>1.346750e-18</td>\n",
       "      <td>4.033196e-18</td>\n",
       "      <td>-5.370064e-18</td>\n",
       "    </tr>\n",
       "    <tr>\n",
       "      <th>1</th>\n",
       "      <td>-0.000000e+00</td>\n",
       "      <td>5.551115e-17</td>\n",
       "      <td>-5.551115e-17</td>\n",
       "      <td>8.326673e-17</td>\n",
       "      <td>6.938894e-17</td>\n",
       "      <td>-1.387779e-17</td>\n",
       "      <td>-1.110223e-16</td>\n",
       "      <td>-1.908196e-17</td>\n",
       "      <td>-1.387779e-16</td>\n",
       "      <td>9.714451e-17</td>\n",
       "    </tr>\n",
       "    <tr>\n",
       "      <th>2</th>\n",
       "      <td>-5.551115e-17</td>\n",
       "      <td>4.163336e-17</td>\n",
       "      <td>5.551115e-17</td>\n",
       "      <td>-1.110223e-16</td>\n",
       "      <td>0.000000e+00</td>\n",
       "      <td>6.245005e-17</td>\n",
       "      <td>1.110223e-16</td>\n",
       "      <td>3.469447e-17</td>\n",
       "      <td>-8.326673e-17</td>\n",
       "      <td>2.775558e-17</td>\n",
       "    </tr>\n",
       "    <tr>\n",
       "      <th>3</th>\n",
       "      <td>-0.000000e+00</td>\n",
       "      <td>-1.110223e-16</td>\n",
       "      <td>-0.000000e+00</td>\n",
       "      <td>-6.938894e-17</td>\n",
       "      <td>-7.632783e-17</td>\n",
       "      <td>-3.122502e-17</td>\n",
       "      <td>-1.110223e-16</td>\n",
       "      <td>2.775558e-17</td>\n",
       "      <td>-6.938894e-17</td>\n",
       "      <td>2.775558e-17</td>\n",
       "    </tr>\n",
       "    <tr>\n",
       "      <th>4</th>\n",
       "      <td>-0.000000e+00</td>\n",
       "      <td>-0.000000e+00</td>\n",
       "      <td>-0.000000e+00</td>\n",
       "      <td>5.551115e-17</td>\n",
       "      <td>-1.734723e-17</td>\n",
       "      <td>-4.510281e-17</td>\n",
       "      <td>-5.551115e-17</td>\n",
       "      <td>4.857226e-17</td>\n",
       "      <td>2.775558e-17</td>\n",
       "      <td>5.551115e-17</td>\n",
       "    </tr>\n",
       "  </tbody>\n",
       "</table>\n",
       "</div>"
      ],
      "text/plain": [
       "              0             1             2             3             4  \\\n",
       "0 -4.918795e-18 -4.145982e-18 -6.419095e-18  9.813703e-18  2.018690e-18   \n",
       "1 -0.000000e+00  5.551115e-17 -5.551115e-17  8.326673e-17  6.938894e-17   \n",
       "2 -5.551115e-17  4.163336e-17  5.551115e-17 -1.110223e-16  0.000000e+00   \n",
       "3 -0.000000e+00 -1.110223e-16 -0.000000e+00 -6.938894e-17 -7.632783e-17   \n",
       "4 -0.000000e+00 -0.000000e+00 -0.000000e+00  5.551115e-17 -1.734723e-17   \n",
       "\n",
       "              5             6             7             8             9  \n",
       "0  1.539617e-18  1.188176e-17  1.346750e-18  4.033196e-18 -5.370064e-18  \n",
       "1 -1.387779e-17 -1.110223e-16 -1.908196e-17 -1.387779e-16  9.714451e-17  \n",
       "2  6.245005e-17  1.110223e-16  3.469447e-17 -8.326673e-17  2.775558e-17  \n",
       "3 -3.122502e-17 -1.110223e-16  2.775558e-17 -6.938894e-17  2.775558e-17  \n",
       "4 -4.510281e-17 -5.551115e-17  4.857226e-17  2.775558e-17  5.551115e-17  "
      ]
     },
     "execution_count": 72,
     "metadata": {},
     "output_type": "execute_result"
    }
   ],
   "source": [
    "weights_matrix = pd.read_csv(weights_matrix_loc, header=None, sep=';')\n",
    "# weights_matrix = weights_matrix.transpose()\n",
    "weights_matrix.head()"
   ]
  },
  {
   "cell_type": "code",
   "execution_count": 73,
   "id": "6b3ccb2a",
   "metadata": {},
   "outputs": [
    {
     "data": {
      "text/plain": [
       "(100, 10)"
      ]
     },
     "execution_count": 73,
     "metadata": {},
     "output_type": "execute_result"
    }
   ],
   "source": [
    "weights_matrix.shape"
   ]
  },
  {
   "cell_type": "code",
   "execution_count": 74,
   "id": "b7d732f1",
   "metadata": {},
   "outputs": [
    {
     "data": {
      "text/plain": [
       "(10, 100)"
      ]
     },
     "execution_count": 74,
     "metadata": {},
     "output_type": "execute_result"
    }
   ],
   "source": [
    "wm = weights_matrix.transpose()\n",
    "wm.shape"
   ]
  },
  {
   "cell_type": "code",
   "execution_count": 75,
   "id": "d832af6c",
   "metadata": {},
   "outputs": [
    {
     "data": {
      "text/plain": [
       "(100, 10)"
      ]
     },
     "execution_count": 75,
     "metadata": {},
     "output_type": "execute_result"
    }
   ],
   "source": [
    "accounts_matrix.shape"
   ]
  },
  {
   "cell_type": "code",
   "execution_count": 80,
   "id": "aedf18ad",
   "metadata": {},
   "outputs": [],
   "source": [
    "# result = weights_matrix*accounts_matrix\n",
    "result = accounts_matrix.dot(weights_matrix.transpose())"
   ]
  },
  {
   "cell_type": "code",
   "execution_count": 81,
   "id": "068e6d25",
   "metadata": {},
   "outputs": [
    {
     "data": {
      "text/html": [
       "<div>\n",
       "<style scoped>\n",
       "    .dataframe tbody tr th:only-of-type {\n",
       "        vertical-align: middle;\n",
       "    }\n",
       "\n",
       "    .dataframe tbody tr th {\n",
       "        vertical-align: top;\n",
       "    }\n",
       "\n",
       "    .dataframe thead th {\n",
       "        text-align: right;\n",
       "    }\n",
       "</style>\n",
       "<table border=\"1\" class=\"dataframe\">\n",
       "  <thead>\n",
       "    <tr style=\"text-align: right;\">\n",
       "      <th></th>\n",
       "      <th>0</th>\n",
       "      <th>1</th>\n",
       "      <th>2</th>\n",
       "      <th>3</th>\n",
       "      <th>4</th>\n",
       "      <th>5</th>\n",
       "      <th>6</th>\n",
       "      <th>7</th>\n",
       "      <th>8</th>\n",
       "      <th>9</th>\n",
       "      <th>...</th>\n",
       "      <th>90</th>\n",
       "      <th>91</th>\n",
       "      <th>92</th>\n",
       "      <th>93</th>\n",
       "      <th>94</th>\n",
       "      <th>95</th>\n",
       "      <th>96</th>\n",
       "      <th>97</th>\n",
       "      <th>98</th>\n",
       "      <th>99</th>\n",
       "    </tr>\n",
       "  </thead>\n",
       "  <tbody>\n",
       "    <tr>\n",
       "      <th>0</th>\n",
       "      <td>2.050654e-15</td>\n",
       "      <td>-3.804448e-15</td>\n",
       "      <td>7.931110e-18</td>\n",
       "      <td>1.600277e-15</td>\n",
       "      <td>1.182603e-16</td>\n",
       "      <td>6.375695e-15</td>\n",
       "      <td>-3.183625e-15</td>\n",
       "      <td>-2.640495e-15</td>\n",
       "      <td>1.328987e-15</td>\n",
       "      <td>-2.335026e-16</td>\n",
       "      <td>...</td>\n",
       "      <td>0.0</td>\n",
       "      <td>0.0</td>\n",
       "      <td>0.0</td>\n",
       "      <td>0.0</td>\n",
       "      <td>0.0</td>\n",
       "      <td>0.0</td>\n",
       "      <td>0.0</td>\n",
       "      <td>0.0</td>\n",
       "      <td>0.0</td>\n",
       "      <td>0.0</td>\n",
       "    </tr>\n",
       "    <tr>\n",
       "      <th>1</th>\n",
       "      <td>2.050654e-15</td>\n",
       "      <td>-3.804448e-15</td>\n",
       "      <td>7.931110e-18</td>\n",
       "      <td>1.600277e-15</td>\n",
       "      <td>1.182603e-16</td>\n",
       "      <td>6.375695e-15</td>\n",
       "      <td>-3.183625e-15</td>\n",
       "      <td>-2.640495e-15</td>\n",
       "      <td>1.328987e-15</td>\n",
       "      <td>-2.335026e-16</td>\n",
       "      <td>...</td>\n",
       "      <td>0.0</td>\n",
       "      <td>0.0</td>\n",
       "      <td>0.0</td>\n",
       "      <td>0.0</td>\n",
       "      <td>0.0</td>\n",
       "      <td>0.0</td>\n",
       "      <td>0.0</td>\n",
       "      <td>0.0</td>\n",
       "      <td>0.0</td>\n",
       "      <td>0.0</td>\n",
       "    </tr>\n",
       "    <tr>\n",
       "      <th>2</th>\n",
       "      <td>2.050654e-15</td>\n",
       "      <td>-3.804448e-15</td>\n",
       "      <td>7.931110e-18</td>\n",
       "      <td>1.600277e-15</td>\n",
       "      <td>1.182603e-16</td>\n",
       "      <td>6.375695e-15</td>\n",
       "      <td>-3.183625e-15</td>\n",
       "      <td>-2.640495e-15</td>\n",
       "      <td>1.328987e-15</td>\n",
       "      <td>-2.335026e-16</td>\n",
       "      <td>...</td>\n",
       "      <td>0.0</td>\n",
       "      <td>0.0</td>\n",
       "      <td>0.0</td>\n",
       "      <td>0.0</td>\n",
       "      <td>0.0</td>\n",
       "      <td>0.0</td>\n",
       "      <td>0.0</td>\n",
       "      <td>0.0</td>\n",
       "      <td>0.0</td>\n",
       "      <td>0.0</td>\n",
       "    </tr>\n",
       "    <tr>\n",
       "      <th>3</th>\n",
       "      <td>2.050654e-15</td>\n",
       "      <td>-3.804448e-15</td>\n",
       "      <td>7.931110e-18</td>\n",
       "      <td>1.600277e-15</td>\n",
       "      <td>1.182603e-16</td>\n",
       "      <td>6.375695e-15</td>\n",
       "      <td>-3.183625e-15</td>\n",
       "      <td>-2.640495e-15</td>\n",
       "      <td>1.328987e-15</td>\n",
       "      <td>-2.335026e-16</td>\n",
       "      <td>...</td>\n",
       "      <td>0.0</td>\n",
       "      <td>0.0</td>\n",
       "      <td>0.0</td>\n",
       "      <td>0.0</td>\n",
       "      <td>0.0</td>\n",
       "      <td>0.0</td>\n",
       "      <td>0.0</td>\n",
       "      <td>0.0</td>\n",
       "      <td>0.0</td>\n",
       "      <td>0.0</td>\n",
       "    </tr>\n",
       "    <tr>\n",
       "      <th>4</th>\n",
       "      <td>2.050654e-15</td>\n",
       "      <td>-3.804448e-15</td>\n",
       "      <td>7.931110e-18</td>\n",
       "      <td>1.600277e-15</td>\n",
       "      <td>1.182603e-16</td>\n",
       "      <td>6.375695e-15</td>\n",
       "      <td>-3.183625e-15</td>\n",
       "      <td>-2.640495e-15</td>\n",
       "      <td>1.328987e-15</td>\n",
       "      <td>-2.335026e-16</td>\n",
       "      <td>...</td>\n",
       "      <td>0.0</td>\n",
       "      <td>0.0</td>\n",
       "      <td>0.0</td>\n",
       "      <td>0.0</td>\n",
       "      <td>0.0</td>\n",
       "      <td>0.0</td>\n",
       "      <td>0.0</td>\n",
       "      <td>0.0</td>\n",
       "      <td>0.0</td>\n",
       "      <td>0.0</td>\n",
       "    </tr>\n",
       "  </tbody>\n",
       "</table>\n",
       "<p>5 rows × 100 columns</p>\n",
       "</div>"
      ],
      "text/plain": [
       "             0             1             2             3             4   \\\n",
       "0  2.050654e-15 -3.804448e-15  7.931110e-18  1.600277e-15  1.182603e-16   \n",
       "1  2.050654e-15 -3.804448e-15  7.931110e-18  1.600277e-15  1.182603e-16   \n",
       "2  2.050654e-15 -3.804448e-15  7.931110e-18  1.600277e-15  1.182603e-16   \n",
       "3  2.050654e-15 -3.804448e-15  7.931110e-18  1.600277e-15  1.182603e-16   \n",
       "4  2.050654e-15 -3.804448e-15  7.931110e-18  1.600277e-15  1.182603e-16   \n",
       "\n",
       "             5             6             7             8             9   ...  \\\n",
       "0  6.375695e-15 -3.183625e-15 -2.640495e-15  1.328987e-15 -2.335026e-16  ...   \n",
       "1  6.375695e-15 -3.183625e-15 -2.640495e-15  1.328987e-15 -2.335026e-16  ...   \n",
       "2  6.375695e-15 -3.183625e-15 -2.640495e-15  1.328987e-15 -2.335026e-16  ...   \n",
       "3  6.375695e-15 -3.183625e-15 -2.640495e-15  1.328987e-15 -2.335026e-16  ...   \n",
       "4  6.375695e-15 -3.183625e-15 -2.640495e-15  1.328987e-15 -2.335026e-16  ...   \n",
       "\n",
       "    90   91   92   93   94   95   96   97   98   99  \n",
       "0  0.0  0.0  0.0  0.0  0.0  0.0  0.0  0.0  0.0  0.0  \n",
       "1  0.0  0.0  0.0  0.0  0.0  0.0  0.0  0.0  0.0  0.0  \n",
       "2  0.0  0.0  0.0  0.0  0.0  0.0  0.0  0.0  0.0  0.0  \n",
       "3  0.0  0.0  0.0  0.0  0.0  0.0  0.0  0.0  0.0  0.0  \n",
       "4  0.0  0.0  0.0  0.0  0.0  0.0  0.0  0.0  0.0  0.0  \n",
       "\n",
       "[5 rows x 100 columns]"
      ]
     },
     "execution_count": 81,
     "metadata": {},
     "output_type": "execute_result"
    }
   ],
   "source": [
    "result.head()"
   ]
  },
  {
   "cell_type": "code",
   "execution_count": 82,
   "id": "a1682b7a",
   "metadata": {
    "pycharm": {
     "name": "#%%\n"
    }
   },
   "outputs": [
    {
     "data": {
      "image/png": "[encoded data removed]",
      "text/plain": [
       "<Figure size 288x288 with 1 Axes>"
      ]
     },
     "metadata": {
      "needs_background": "light"
     },
     "output_type": "display_data"
    }
   ],
   "source": [
    "import pylab as plt\n",
    "\n",
    "plt.matshow(result)\n",
    "plt.xlim([0, 100])\n",
    "plt.ylim([0, 100])\n",
    "plt.show()"
   ]
  }
 ],
 "metadata": {
  "kernelspec": {
   "display_name": "Python 3 (ipykernel)",
   "language": "python",
   "name": "python3"
  },
  "language_info": {
   "codemirror_mode": {
    "name": "ipython",
    "version": 3
   },
   "file_extension": ".py",
   "mimetype": "text/x-python",
   "name": "python",
   "nbconvert_exporter": "python",
   "pygments_lexer": "ipython3",
   "version": "3.9.7"
  }
 },
 "nbformat": 4,
 "nbformat_minor": 5
}