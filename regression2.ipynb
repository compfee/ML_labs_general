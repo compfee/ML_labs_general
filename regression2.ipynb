{
 "cells": [
  {
   "cell_type": "markdown",
   "source": [
    "Перед вами результаты наблюдений длительности нахождения человека в очереди в зависимости от количества людей в этой очереди. Обучите модель линейной регрессии для прогнозирования и введите указанные параметры."
   ],
   "metadata": {
    "collapsed": false,
    "pycharm": {
     "name": "#%% md\n"
    }
   }
  },
  {
   "cell_type": "code",
   "execution_count": 1,
   "id": "b45696c4",
   "metadata": {},
   "outputs": [],
   "source": [
    "import pandas as pd\n",
    "import numpy as np"
   ]
  },
  {
   "cell_type": "code",
   "execution_count": 2,
   "id": "ed9ac869",
   "metadata": {},
   "outputs": [],
   "source": [
    "data_loc = 'time_in_line.csv'"
   ]
  },
  {
   "cell_type": "code",
   "execution_count": 3,
   "id": "24f3cf6b",
   "metadata": {},
   "outputs": [],
   "source": [
    "data = pd.read_csv(data_loc)"
   ]
  },
  {
   "cell_type": "code",
   "execution_count": 4,
   "id": "1b8c8fe8",
   "metadata": {},
   "outputs": [
    {
     "data": {
      "text/html": [
       "<div>\n",
       "<style scoped>\n",
       "    .dataframe tbody tr th:only-of-type {\n",
       "        vertical-align: middle;\n",
       "    }\n",
       "\n",
       "    .dataframe tbody tr th {\n",
       "        vertical-align: top;\n",
       "    }\n",
       "\n",
       "    .dataframe thead th {\n",
       "        text-align: right;\n",
       "    }\n",
       "</style>\n",
       "<table border=\"1\" class=\"dataframe\">\n",
       "  <thead>\n",
       "    <tr style=\"text-align: right;\">\n",
       "      <th></th>\n",
       "      <th>id</th>\n",
       "      <th>X</th>\n",
       "      <th>Y</th>\n",
       "    </tr>\n",
       "  </thead>\n",
       "  <tbody>\n",
       "    <tr>\n",
       "      <th>0</th>\n",
       "      <td>1</td>\n",
       "      <td>15</td>\n",
       "      <td>37</td>\n",
       "    </tr>\n",
       "    <tr>\n",
       "      <th>1</th>\n",
       "      <td>2</td>\n",
       "      <td>11</td>\n",
       "      <td>33</td>\n",
       "    </tr>\n",
       "    <tr>\n",
       "      <th>2</th>\n",
       "      <td>3</td>\n",
       "      <td>6</td>\n",
       "      <td>13</td>\n",
       "    </tr>\n",
       "    <tr>\n",
       "      <th>3</th>\n",
       "      <td>4</td>\n",
       "      <td>21</td>\n",
       "      <td>37</td>\n",
       "    </tr>\n",
       "    <tr>\n",
       "      <th>4</th>\n",
       "      <td>5</td>\n",
       "      <td>17</td>\n",
       "      <td>49</td>\n",
       "    </tr>\n",
       "  </tbody>\n",
       "</table>\n",
       "</div>"
      ],
      "text/plain": [
       "   id   X   Y\n",
       "0   1  15  37\n",
       "1   2  11  33\n",
       "2   3   6  13\n",
       "3   4  21  37\n",
       "4   5  17  49"
      ]
     },
     "execution_count": 4,
     "metadata": {},
     "output_type": "execute_result"
    }
   ],
   "source": [
    "data.head()"
   ]
  },
  {
   "cell_type": "code",
   "execution_count": 5,
   "id": "008ad90c",
   "metadata": {},
   "outputs": [],
   "source": [
    "x_mean = data['X'].mean()"
   ]
  },
  {
   "cell_type": "code",
   "execution_count": 6,
   "id": "138fbfcd",
   "metadata": {},
   "outputs": [
    {
     "data": {
      "text/plain": [
       "12.9"
      ]
     },
     "execution_count": 6,
     "metadata": {},
     "output_type": "execute_result"
    }
   ],
   "source": [
    "x_mean"
   ]
  },
  {
   "cell_type": "code",
   "execution_count": 7,
   "id": "61b68299",
   "metadata": {},
   "outputs": [],
   "source": [
    "y_mean = data['Y'].mean()"
   ]
  },
  {
   "cell_type": "code",
   "execution_count": 8,
   "id": "2aff406e",
   "metadata": {},
   "outputs": [
    {
     "data": {
      "text/plain": [
       "28.0"
      ]
     },
     "execution_count": 8,
     "metadata": {},
     "output_type": "execute_result"
    }
   ],
   "source": [
    "y_mean"
   ]
  },
  {
   "cell_type": "code",
   "execution_count": 9,
   "id": "c5c58524",
   "metadata": {},
   "outputs": [],
   "source": [
    "n = len(data)"
   ]
  },
  {
   "cell_type": "code",
   "execution_count": 10,
   "id": "7f9ceb17",
   "metadata": {},
   "outputs": [],
   "source": [
    "mean_sum = 0\n",
    "mean_square_sum = 0"
   ]
  },
  {
   "cell_type": "code",
   "execution_count": 11,
   "id": "0c70b51a",
   "metadata": {},
   "outputs": [],
   "source": [
    "for i in range(n):\n",
    "    mean_sum += (data['X'][i] - x_mean)*(data['Y'][i] - y_mean)\n",
    "    mean_square_sum += (data['X'][i] - x_mean)**2  "
   ]
  },
  {
   "cell_type": "code",
   "execution_count": 12,
   "id": "dffc7b6e",
   "metadata": {},
   "outputs": [],
   "source": [
    "theta1 = mean_sum/mean_square_sum"
   ]
  },
  {
   "cell_type": "code",
   "execution_count": 13,
   "id": "8f3d7dd5",
   "metadata": {},
   "outputs": [
    {
     "data": {
      "text/plain": [
       "1.632435316084289"
      ]
     },
     "execution_count": 13,
     "metadata": {},
     "output_type": "execute_result"
    }
   ],
   "source": [
    "theta1"
   ]
  },
  {
   "cell_type": "code",
   "execution_count": 14,
   "id": "cfe8e4c6",
   "metadata": {},
   "outputs": [],
   "source": [
    "theta0 = y_mean - theta1*x_mean"
   ]
  },
  {
   "cell_type": "code",
   "execution_count": 15,
   "id": "179b63a6",
   "metadata": {},
   "outputs": [
    {
     "data": {
      "text/plain": [
       "6.941584422512669"
      ]
     },
     "execution_count": 15,
     "metadata": {},
     "output_type": "execute_result"
    }
   ],
   "source": [
    "theta0"
   ]
  },
  {
   "cell_type": "code",
   "execution_count": 16,
   "id": "e3f004fd",
   "metadata": {},
   "outputs": [],
   "source": [
    "sum_y_thetas_difference_squared = 0\n",
    "ys_difference_squared = 0"
   ]
  },
  {
   "cell_type": "code",
   "execution_count": 17,
   "id": "993c509d",
   "metadata": {},
   "outputs": [],
   "source": [
    "for i in range(n):\n",
    "    sum_y_thetas_difference_squared += (data['Y'][i] - theta0 - theta1*data['X'][i])**2\n",
    "    ys_difference_squared += (data['Y'][i] - y_mean)**2"
   ]
  },
  {
   "cell_type": "code",
   "execution_count": 18,
   "id": "334534c2",
   "metadata": {},
   "outputs": [],
   "source": [
    "r_squared = 1 - sum_y_thetas_difference_squared/ys_difference_squared"
   ]
  },
  {
   "cell_type": "code",
   "execution_count": 19,
   "id": "b8e5a9b9",
   "metadata": {},
   "outputs": [
    {
     "data": {
      "text/plain": [
       "0.6607476279388789"
      ]
     },
     "execution_count": 19,
     "metadata": {},
     "output_type": "execute_result"
    }
   ],
   "source": [
    "r_squared"
   ]
  },
  {
   "cell_type": "markdown",
   "id": "9017c5ea",
   "metadata": {
    "pycharm": {
     "name": "#%% md\n"
    }
   },
   "source": [
    "Определите выборочное среднее X: 12.9"
   ]
  },
  {
   "cell_type": "markdown",
   "id": "4df4be08",
   "metadata": {
    "pycharm": {
     "name": "#%% md\n"
    }
   },
   "source": [
    "Определите выборочное среднее Y: 28"
   ]
  },
  {
   "cell_type": "markdown",
   "source": [
    "Найдите коэффициент θ_1: 1.63"
   ],
   "metadata": {
    "collapsed": false,
    "pycharm": {
     "name": "#%% md\n"
    }
   }
  },
  {
   "cell_type": "markdown",
   "source": [
    "Найдите коэффициент θ_0: 6.94"
   ],
   "metadata": {
    "collapsed": false,
    "pycharm": {
     "name": "#%% md\n"
    }
   }
  },
  {
   "cell_type": "markdown",
   "source": [
    "Оцените точность модели, вычислив R^2 статистику: 0.66"
   ],
   "metadata": {
    "collapsed": false,
    "pycharm": {
     "name": "#%% md\n"
    }
   }
  },
  {
   "cell_type": "code",
   "execution_count": null,
   "outputs": [],
   "source": [],
   "metadata": {
    "collapsed": false,
    "pycharm": {
     "name": "#%%\n"
    }
   }
  }
 ],
 "metadata": {
  "kernelspec": {
   "display_name": "Python 3 (ipykernel)",
   "language": "python",
   "name": "python3"
  },
  "language_info": {
   "codemirror_mode": {
    "name": "ipython",
    "version": 3
   },
   "file_extension": ".py",
   "mimetype": "text/x-python",
   "name": "python",
   "nbconvert_exporter": "python",
   "pygments_lexer": "ipython3",
   "version": "3.9.7"
  }
 },
 "nbformat": 4,
 "nbformat_minor": 5
}