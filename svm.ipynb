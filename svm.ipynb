{
  "nbformat": 4,
  "nbformat_minor": 0,
  "metadata": {
    "colab": {
      "provenance": []
    },
    "kernelspec": {
      "name": "python3",
      "display_name": "Python 3"
    },
    "language_info": {
      "name": "python"
    }
  },
  "cells": [
    {
      "cell_type": "markdown",
      "source": [
        "В данной задаче вам предстоит решить задачу классификации изображений – отделить изображения кошек от изображений собак, используя классификацию с мягким зазором и параметром C. В предложенном архиве находится выборка, включающая в себя изображения кошек и собак (по 500 изображений). Имя каждого изображения, для удобства, имеет следующий формат:  cat/dog.номер_изображения.jpg  в зависимости от того, какое животное присутствует на изображении.\n",
        "Обучите классификатор LinearSVC() при C = 0.65 и random_state = 12 на предложенной выборке. Используйте параметр random_state = 12 для разделения выборки на тренировочную и тестовую части, в отношении 75/25 функции train_test_split()."
      ],
      "metadata": {
        "id": "Tp9ilKdbLCjK"
      }
    },
    {
      "cell_type": "code",
      "execution_count": null,
      "metadata": {
        "id": "l50xzf0baeZP"
      },
      "outputs": [],
      "source": [
        "from sklearn.ensemble import BaggingClassifier\n",
        "from sklearn.tree import DecisionTreeClassifier\n",
        "from sklearn.svm import LinearSVC\n",
        "from sklearn.ensemble import RandomForestClassifier\n",
        "from sklearn.linear_model import LogisticRegression\n",
        "from sklearn.ensemble import StackingClassifier\n",
        "import cv2\n",
        "from imutils import paths\n",
        "from sklearn.metrics import accuracy_score, precision_score, recall_score\n",
        "from sklearn.metrics import confusion_matrix\n",
        "from sklearn.model_selection import cross_val_score\n",
        "from sklearn.model_selection import train_test_split\n",
        "import numpy as np"
      ]
    },
    {
      "cell_type": "code",
      "source": [
        "!unzip -q /content/train_task.zip -d train\n",
        "!unzip -q /content/test_task.zip -d test"
      ],
      "metadata": {
        "colab": {
          "base_uri": "https://localhost:8080/"
        },
        "id": "_Ob3w2q5iYgN",
        "outputId": "305ad10b-8f9a-44f6-c32a-579150fa1597"
      },
      "execution_count": null,
      "outputs": [
        {
          "output_type": "stream",
          "name": "stdout",
          "text": [
            "replace train/train/.DS_Store? [y]es, [n]o, [A]ll, [N]one, [r]ename: y\n",
            "replace train/train/cat.0.jpg? [y]es, [n]o, [A]ll, [N]one, [r]ename: a\n",
            "error:  invalid response [a]\n",
            "replace train/train/cat.0.jpg? [y]es, [n]o, [A]ll, [N]one, [r]ename: A\n",
            "replace test/test/.DS_Store? [y]es, [n]o, [A]ll, [N]one, [r]ename: y\n",
            "replace test/test/cat.1000.jpg? [y]es, [n]o, [A]ll, [N]one, [r]ename: y A\n",
            "replace test/test/cat.1001.jpg? [y]es, [n]o, [A]ll, [N]one, [r]ename: A\n"
          ]
        }
      ]
    },
    {
      "cell_type": "code",
      "source": [
        "def extract_histogram(image, bins=(8, 8, 8)):\n",
        "    hist = cv2.calcHist([image], [0, 1, 2], None, bins, [0, 256, 0, 256, 0, 256])\n",
        "    cv2.normalize(hist, hist)\n",
        "    return hist.flatten()"
      ],
      "metadata": {
        "id": "zdDCot6UafnA"
      },
      "execution_count": null,
      "outputs": []
    },
    {
      "cell_type": "code",
      "source": [
        "X = []\n",
        "y = []\n",
        "imagePaths = sorted(list(paths.list_images('train')))\n",
        "for image in imagePaths:\n",
        "  image1 = cv2.imread(image)\n",
        "  X.append(extract_histogram(image1))\n",
        "  y.append(1) if 'cat' in image else y.append(0)"
      ],
      "metadata": {
        "id": "mKtfkO-uahRC"
      },
      "execution_count": null,
      "outputs": []
    },
    {
      "cell_type": "code",
      "source": [
        "X_test = []\n",
        "y_test = []\n",
        "imagePaths = sorted(list(paths.list_images('test')))\n",
        "for image in imagePaths:\n",
        "    image1 = cv2.imread(image)\n",
        "    X_test.append(extract_histogram(image1))\n",
        "    y_test.append(1) if 'cat' in image else y_test.append(0)"
      ],
      "metadata": {
        "id": "CS2cwPYlahYC"
      },
      "execution_count": null,
      "outputs": []
    },
    {
      "cell_type": "code",
      "source": [
        "X_train, y_train, X_val, y_val = train_test_split(X, y, test_size=0.25, random_state=12)"
      ],
      "metadata": {
        "id": "c54VQTpdmzqn"
      },
      "execution_count": null,
      "outputs": []
    },
    {
      "cell_type": "code",
      "source": [
        "linearSVC = LinearSVC(C = 0.65, random_state=12).fit(X, y)"
      ],
      "metadata": {
        "id": "7udh2JZkekcr"
      },
      "execution_count": null,
      "outputs": []
    },
    {
      "cell_type": "code",
      "source": [
        "print(linearSVC.score(X, y))"
      ],
      "metadata": {
        "colab": {
          "base_uri": "https://localhost:8080/"
        },
        "id": "1V4o4njbek39",
        "outputId": "d15e814c-b73a-4d3c-8d6c-413fd317d660"
      },
      "execution_count": null,
      "outputs": [
        {
          "output_type": "stream",
          "name": "stdout",
          "text": [
            "0.713\n"
          ]
        }
      ]
    },
    {
      "cell_type": "code",
      "source": [
        "linearSVC.coef_[0][385]"
      ],
      "metadata": {
        "colab": {
          "base_uri": "https://localhost:8080/"
        },
        "id": "_BcxFAmagn7_",
        "outputId": "92c7320b-7652-42ff-ad11-500c1f1f3299"
      },
      "execution_count": null,
      "outputs": [
        {
          "output_type": "execute_result",
          "data": {
            "text/plain": [
              "0.0017285412244758902"
            ]
          },
          "metadata": {},
          "execution_count": 75
        }
      ]
    },
    {
      "cell_type": "code",
      "source": [
        "linearSVC.coef_[0][476]"
      ],
      "metadata": {
        "colab": {
          "base_uri": "https://localhost:8080/"
        },
        "id": "Im0JOXRs1z9t",
        "outputId": "e53bb222-b403-4621-ba04-22b53e3c147a"
      },
      "execution_count": null,
      "outputs": [
        {
          "output_type": "execute_result",
          "data": {
            "text/plain": [
              "-0.000563731016005073"
            ]
          },
          "metadata": {},
          "execution_count": 78
        }
      ]
    },
    {
      "cell_type": "code",
      "source": [
        "linearSVC.coef_[0][167]"
      ],
      "metadata": {
        "colab": {
          "base_uri": "https://localhost:8080/"
        },
        "id": "qnxv5rqg2xjn",
        "outputId": "a7c494df-b695-4877-c76f-17c07f74ed94"
      },
      "execution_count": null,
      "outputs": [
        {
          "output_type": "execute_result",
          "data": {
            "text/plain": [
              "-0.04395105555123137"
            ]
          },
          "metadata": {},
          "execution_count": 77
        }
      ]
    },
    {
      "cell_type": "code",
      "source": [
        "ny_pred = linearSVC.predict(X_test)"
      ],
      "metadata": {
        "id": "MpVVfVyO3uxT"
      },
      "execution_count": null,
      "outputs": []
    },
    {
      "cell_type": "code",
      "source": [
        "accuracy_score(y_test, y_pred)"
      ],
      "metadata": {
        "colab": {
          "base_uri": "https://localhost:8080/"
        },
        "id": "G5qIFq-Y3OWE",
        "outputId": "48539612-2272-44e9-a31e-a7cb7bc97ee9"
      },
      "execution_count": null,
      "outputs": [
        {
          "output_type": "execute_result",
          "data": {
            "text/plain": [
              "0.54"
            ]
          },
          "metadata": {},
          "execution_count": 50
        }
      ]
    },
    {
      "cell_type": "code",
      "source": [
        "precision = precision_score(y_test, y_pred)\n",
        "precision"
      ],
      "metadata": {
        "colab": {
          "base_uri": "https://localhost:8080/"
        },
        "id": "Ro54mbeR5uJc",
        "outputId": "1fadb26c-ee8c-4869-e398-37f2bf760429"
      },
      "execution_count": null,
      "outputs": [
        {
          "output_type": "execute_result",
          "data": {
            "text/plain": [
              "0.5294117647058824"
            ]
          },
          "metadata": {},
          "execution_count": 54
        }
      ]
    },
    {
      "cell_type": "code",
      "source": [
        "recall = recall_score(y_test, y_pred)\n",
        "recall"
      ],
      "metadata": {
        "colab": {
          "base_uri": "https://localhost:8080/"
        },
        "id": "O3Q1KRSn6I5G",
        "outputId": "a007fb4d-11c2-410c-fd4b-ebda017844b3"
      },
      "execution_count": null,
      "outputs": [
        {
          "output_type": "execute_result",
          "data": {
            "text/plain": [
              "0.72"
            ]
          },
          "metadata": {},
          "execution_count": 55
        }
      ]
    },
    {
      "cell_type": "code",
      "source": [
        "F = 2 * (precision * recall)/(precision + recall)\n",
        "F"
      ],
      "metadata": {
        "colab": {
          "base_uri": "https://localhost:8080/"
        },
        "id": "TtSx6VQ420XG",
        "outputId": "79e426ca-ff77-429d-d483-a0a5b576d0e1"
      },
      "execution_count": null,
      "outputs": [
        {
          "output_type": "execute_result",
          "data": {
            "text/plain": [
              "0.6101694915254237"
            ]
          },
          "metadata": {},
          "execution_count": 57
        }
      ]
    },
    {
      "cell_type": "code",
      "source": [
        "X_control = []\n",
        "image1 = cv2.imread('/content/test/test/cat.1041.jpg')\n",
        "X_control.append(extract_histogram(image1))\n",
        "1 - linearSVC.predict(X_control)"
      ],
      "metadata": {
        "colab": {
          "base_uri": "https://localhost:8080/"
        },
        "id": "eMduBRn_6Ob6",
        "outputId": "907b1443-1c18-42b3-8b99-985f4df1ed23"
      },
      "execution_count": null,
      "outputs": [
        {
          "output_type": "execute_result",
          "data": {
            "text/plain": [
              "array([1])"
            ]
          },
          "metadata": {},
          "execution_count": 80
        }
      ]
    },
    {
      "cell_type": "markdown",
      "source": [
        "Введите значение коэффициента θ_386 построенной гиперплоскости: 0.00172854122447589"
      ],
      "metadata": {
        "id": "4XdjH9DMLW9R"
      }
    },
    {
      "cell_type": "markdown",
      "source": [
        "Введите значение коэффициента θ_476 построенной гиперплоскости: -0.000563731016005073"
      ],
      "metadata": {
        "id": "AJwrZppNLW0F"
      }
    },
    {
      "cell_type": "markdown",
      "source": [
        "Введите значение коэффициента θ_168 построенной гиперплоскости: -0.04395105555123137"
      ],
      "metadata": {
        "id": "8AF-ErbILWjY"
      }
    },
    {
      "cell_type": "markdown",
      "source": [
        "F1: 0.6101694915254237"
      ],
      "metadata": {
        "id": "uWUgVbEiLWaC"
      }
    }
  ]
}